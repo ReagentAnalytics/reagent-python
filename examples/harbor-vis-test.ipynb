{
 "cells": [
  {
   "cell_type": "markdown",
   "metadata": {
    "vscode": {
     "languageId": "markdown"
    }
   },
   "source": [
    "# Harbor / GoHarbor Case Study\n",
    "\n",
    "This is a Reagent Analytics project demo, using the API, to answer questions about foreign influence in various entities in the Harbor open source project.\n",
    "\n",
    "The `reagentpy` Python package facilitates use of the [Reagent API](https://api.reagentanalytics.com) and querying the Reagent version control intelligence database."
   ]
  },
  {
   "cell_type": "markdown",
   "metadata": {
    "vscode": {
     "languageId": "markdown"
    }
   },
   "source": [
    "## Import the `Reagent` object"
   ]
  },
  {
   "cell_type": "code",
   "execution_count": 1,
   "metadata": {},
   "outputs": [],
   "source": [
    "from reagentpy import Reagent"
   ]
  },
  {
   "cell_type": "markdown",
   "metadata": {},
   "source": [
    "Check the status of the connection."
   ]
  },
  {
   "cell_type": "code",
   "execution_count": 2,
   "metadata": {},
   "outputs": [
    {
     "data": {
      "text/plain": [
       "{'status': 'ok'}"
      ]
     },
     "execution_count": 2,
     "metadata": {},
     "output_type": "execute_result"
    }
   ],
   "source": [
    "Reagent().status().dict()"
   ]
  },
  {
   "cell_type": "markdown",
   "metadata": {},
   "source": [
    "Set all required variable names to appropriately constrain query results."
   ]
  },
  {
   "cell_type": "code",
   "execution_count": 3,
   "metadata": {},
   "outputs": [],
   "source": [
    "repo_name = \"goharbor/harbor\"\n",
    "limit = 50\n",
    "china_tz = 8.0"
   ]
  },
  {
   "cell_type": "markdown",
   "metadata": {},
   "source": [
    "# Non-Adversarial Threat\n",
    "\n",
    "There are a number of human factors that influence the likelihood that vulnerabilities are injected into repositories at various points in the open source lifecycle.  These can be used to infer threat that can be quantified, and thus analyzed.  These metrics are all on a sliding scale between from **0 - 10**, 0 meaning that Harbor is unaffected by this issue, and 10 meaning that that all commits exhibit the problem at hand.\n",
    "\n",
    "## Threatscoring Breakdown\n",
    "\n",
    "**Project Fragmentation** is defined as the ratio of files within a repository edited by more than ten developers to files within a repository edited by less than ten developers.  The significance factor for this function is **r = 16**.\n",
    "\n",
    "**Unfocused Contribution** is measured by taking the average pagerank of each file within a repo.  The significance factor for this function is **r = .4497**.\n",
    "\n",
    "**Context Switching** is calculated by taking the average weekly density of distinct file communities users commit to each week.  The significance factor for this function is **r = 0.17**.\n",
    "\n",
    "**Interactive Churn** is the average weekly number of user interactions a file has, scaled by how recent each action is.  The significance factor for this function is **r = 0.16**."
   ]
  },
  {
   "cell_type": "code",
   "execution_count": 4,
   "metadata": {},
   "outputs": [
    {
     "ename": "AttributeError",
     "evalue": "'Reagent' object has no attribute 'demo_visualization'",
     "output_type": "error",
     "traceback": [
      "\u001b[0;31m---------------------------------------------------------------------------\u001b[0m",
      "\u001b[0;31mAttributeError\u001b[0m                            Traceback (most recent call last)",
      "Cell \u001b[0;32mIn[4], line 3\u001b[0m\n\u001b[1;32m      1\u001b[0m get_threatscores_rows_response \u001b[38;5;241m=\u001b[39m Reagent()\u001b[38;5;241m.\u001b[39menrichments()\u001b[38;5;241m.\u001b[39mthreat_score(repo_name)\n\u001b[1;32m      2\u001b[0m get_threatscores_rows_response\u001b[38;5;241m.\u001b[39mdf()\n\u001b[0;32m----> 3\u001b[0m \u001b[43mReagent\u001b[49m\u001b[43m(\u001b[49m\u001b[43m)\u001b[49m\u001b[38;5;241;43m.\u001b[39;49m\u001b[43mdemo_visualization\u001b[49m()\u001b[38;5;241m.\u001b[39mcreate_out_of_five_chart(repo_name)\n",
      "\u001b[0;31mAttributeError\u001b[0m: 'Reagent' object has no attribute 'demo_visualization'"
     ]
    }
   ],
   "source": [
    "get_threatscores_rows_response = Reagent().enrichments().threat_score(repo_name)\n",
    "get_threatscores_rows_response.df()\n",
    "Reagent().demo_visualization()"
   ]
  },
  {
   "cell_type": "markdown",
   "metadata": {},
   "source": [
    "## Foreign Influence\n",
    "\n",
    "The goal of this project is to find foreign adversarial influence in the codebase, wherever it may exist.  To start, let's look at a very high-level analysis of what that means in this project."
   ]
  },
  {
   "cell_type": "code",
   "execution_count": null,
   "metadata": {},
   "outputs": [],
   "source": [
    "Reagent().enrichments().foreign_influence(repo_name).df()"
   ]
  },
  {
   "cell_type": "markdown",
   "metadata": {},
   "source": [
    "## What organizations are involved?  What are the affiliations of those organizations?\n",
    "\n",
    "Analyzing email domains found in the repo yeilds a glimpse into the organizations who are interested in using Harbor."
   ]
  },
  {
   "cell_type": "code",
   "execution_count": null,
   "metadata": {},
   "outputs": [],
   "source": [
    "response = Reagent().repo().email_domains(repo_name)\n",
    "response.df()\n",
    "wc_freq = {item.domain: item.instances for item in response}\n",
    "wordcloud(wc_freq)"
   ]
  },
  {
   "cell_type": "markdown",
   "metadata": {},
   "source": [
    "## Repository Health\n",
    "\n",
    "Here are some indications of whether or not an open source repository is well-maintained, and is following the most basic security guidelines set by GitHub.\n",
    "\n",
    "This endpoint is not currently available, but we anticipate that it will be ready shortly."
   ]
  },
  {
   "cell_type": "code",
   "execution_count": 19,
   "metadata": {},
   "outputs": [],
   "source": [
    "response = Reagent().repo().hygiene_summary(repo_name)\n",
    "response.df()\n",
    "print_hygiene_summary(response)"
   ]
  },
  {
   "cell_type": "markdown",
   "metadata": {},
   "source": [
    "# Adversarial Risk\n",
    "\n",
    "Describes deliberate attacks by bad actors with intent, capability, and targeting characteristics of any scale.  While all kinds of risk are invaluable in deciding how \"safe\" a resource is to use, adversarial risk serves as the best way to quantify sources of attack.\n",
    "\n",
    "### Timezones\n",
    "\n",
    "Often, one can deduce national origin by simply looking at timezones.  This is helpful when analyzing entities that aren't large or old enough to have country data associated with it.  Here's the breakdown for this repo according to timezones."
   ]
  },
  {
   "cell_type": "code",
   "execution_count": null,
   "metadata": {},
   "outputs": [],
   "source": [
    "response = Reagent().repo().timezones(repo_name)\n",
    "response.df()\n",
    "response.timezone_commit_totals.df()"
   ]
  },
  {
   "cell_type": "code",
   "execution_count": null,
   "metadata": {},
   "outputs": [],
   "source": [
    "show_logarithmic_bar_chart(response)"
   ]
  },
  {
   "cell_type": "markdown",
   "metadata": {},
   "source": [
    "## Identity Verification\n",
    "\n",
    "One prime indicator of adversarial intent is the deliberate concealment of identity.  We have several methods to detect this in users.\n",
    "\n",
    "### Timezone Manipulation\n",
    "\n",
    "Manipulating where you seem to be from is an indication of open source malpractice - specifically, manipulating your location incorrectly.  We can find instances of \"teleportation\" in our database by finding commits from different timezones impossibly close together in time."
   ]
  },
  {
   "cell_type": "code",
   "execution_count": null,
   "metadata": {},
   "outputs": [],
   "source": [
    "Reagent().enrichments().timezone_spoof(repo_name).df()"
   ]
  },
  {
   "cell_type": "markdown",
   "metadata": {},
   "source": [
    "## Data Breaches\n",
    "\n",
    "Almost no one in Harbor has been a part of a database breach - all email accounts appear to be purpose-built work accounts.  Here's what that looks like:"
   ]
  },
  {
   "cell_type": "code",
   "execution_count": null,
   "metadata": {},
   "outputs": [],
   "source": [
    "hibp_response = Reagent().enrichments().hibp(repo_name).df()\n",
    "hibp_response.df()\n",
    "hibp_pie_chart(repo_name)"
   ]
  }
 ],
 "metadata": {
  "kernelspec": {
   "display_name": "3.10.14",
   "language": "python",
   "name": "python3"
  },
  "language_info": {
   "codemirror_mode": {
    "name": "ipython",
    "version": 3
   },
   "file_extension": ".py",
   "mimetype": "text/x-python",
   "name": "python",
   "nbconvert_exporter": "python",
   "pygments_lexer": "ipython3",
   "version": "3.10.14"
  }
 },
 "nbformat": 4,
 "nbformat_minor": 2
}
